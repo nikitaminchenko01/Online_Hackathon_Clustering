{
  "nbformat": 4,
  "nbformat_minor": 0,
  "metadata": {
    "colab": {
      "name": "Online_hack.ipynb",
      "provenance": []
    },
    "kernelspec": {
      "name": "python3",
      "display_name": "Python 3"
    },
    "accelerator": "TPU"
  },
  "cells": [
    {
      "cell_type": "code",
      "metadata": {
        "colab": {
          "base_uri": "https://localhost:8080/"
        },
        "id": "RBK0VXQ6isFs",
        "outputId": "6fe1fc43-cf77-4a4d-94ec-699f790d4365"
      },
      "source": [
        "!pip install pymorphy2"
      ],
      "execution_count": null,
      "outputs": [
        {
          "output_type": "stream",
          "text": [
            "Requirement already satisfied: pymorphy2 in /usr/local/lib/python3.6/dist-packages (0.9.1)\n",
            "Requirement already satisfied: docopt>=0.6 in /usr/local/lib/python3.6/dist-packages (from pymorphy2) (0.6.2)\n",
            "Requirement already satisfied: dawg-python>=0.7.1 in /usr/local/lib/python3.6/dist-packages (from pymorphy2) (0.7.2)\n",
            "Requirement already satisfied: pymorphy2-dicts-ru<3.0,>=2.4 in /usr/local/lib/python3.6/dist-packages (from pymorphy2) (2.4.417127.4579844)\n"
          ],
          "name": "stdout"
        }
      ]
    },
    {
      "cell_type": "code",
      "metadata": {
        "id": "rY5_lSEtTymV"
      },
      "source": [
        "import pandas as pd\n",
        "import matplotlib.pyplot as plt\n",
        "import numpy as np\n",
        "import nltk\n",
        "import re\n",
        "from pymorphy2 import MorphAnalyzer\n",
        "from nltk.corpus import stopwords\n",
        "from sklearn.feature_extraction.text import TfidfVectorizer\n",
        "from sklearn.cluster import DBSCAN, MiniBatchKMeans"
      ],
      "execution_count": null,
      "outputs": []
    },
    {
      "cell_type": "code",
      "metadata": {
        "colab": {
          "base_uri": "https://localhost:8080/"
        },
        "id": "PCfuo_QPX412",
        "outputId": "74358020-996a-471f-b12e-793f5259ef93"
      },
      "source": [
        "nltk.download('stopwords')"
      ],
      "execution_count": null,
      "outputs": [
        {
          "output_type": "stream",
          "text": [
            "[nltk_data] Downloading package stopwords to /root/nltk_data...\n",
            "[nltk_data]   Package stopwords is already up-to-date!\n"
          ],
          "name": "stdout"
        },
        {
          "output_type": "execute_result",
          "data": {
            "text/plain": [
              "True"
            ]
          },
          "metadata": {
            "tags": []
          },
          "execution_count": 78
        }
      ]
    },
    {
      "cell_type": "code",
      "metadata": {
        "id": "G4imYpeYUDG4"
      },
      "source": [
        "data = pd.read_excel('/content/drive/MyDrive/precedents.xlsx')"
      ],
      "execution_count": null,
      "outputs": []
    },
    {
      "cell_type": "code",
      "metadata": {
        "colab": {
          "base_uri": "https://localhost:8080/",
          "height": 402
        },
        "id": "HH9kR6E6V-vy",
        "outputId": "e8475e33-8429-42db-b4cb-f45a29a9d657"
      },
      "source": [
        "data"
      ],
      "execution_count": null,
      "outputs": [
        {
          "output_type": "execute_result",
          "data": {
            "text/html": [
              "<div>\n",
              "<style scoped>\n",
              "    .dataframe tbody tr th:only-of-type {\n",
              "        vertical-align: middle;\n",
              "    }\n",
              "\n",
              "    .dataframe tbody tr th {\n",
              "        vertical-align: top;\n",
              "    }\n",
              "\n",
              "    .dataframe thead th {\n",
              "        text-align: right;\n",
              "    }\n",
              "</style>\n",
              "<table border=\"1\" class=\"dataframe\">\n",
              "  <thead>\n",
              "    <tr style=\"text-align: right;\">\n",
              "      <th></th>\n",
              "      <th>place</th>\n",
              "      <th>precedent</th>\n",
              "    </tr>\n",
              "  </thead>\n",
              "  <tbody>\n",
              "    <tr>\n",
              "      <th>0</th>\n",
              "      <td>('Производство электрообеспечения «Ямал»', 'ПК...</td>\n",
              "      <td>Работник ПО при передвижении по территории ГТЭ...</td>\n",
              "    </tr>\n",
              "    <tr>\n",
              "      <th>1</th>\n",
              "      <td>('ТП Ноябрьск ПГИ', 'Не привлекался', 'Не опре...</td>\n",
              "      <td>Нет поручней на приемных мостках</td>\n",
              "    </tr>\n",
              "    <tr>\n",
              "      <th>2</th>\n",
              "      <td>('АО \"Мессояханефтегаз\"', 'Эриэллнефтегазсерви...</td>\n",
              "      <td>Сотрудник сторонней организации находился без ...</td>\n",
              "    </tr>\n",
              "    <tr>\n",
              "      <th>3</th>\n",
              "      <td>('АО \"Мессояханефтегаз\"', 'Эриэллнефтегазсерви...</td>\n",
              "      <td>В зоне шланга высокого давления находился рабо...</td>\n",
              "    </tr>\n",
              "    <tr>\n",
              "      <th>4</th>\n",
              "      <td>('ООО \"Газпромнефть-Хантос\"', 'Не привлекался'...</td>\n",
              "      <td>При обходе КП-614 было обнаружен перепад по ли...</td>\n",
              "    </tr>\n",
              "    <tr>\n",
              "      <th>...</th>\n",
              "      <td>...</td>\n",
              "      <td>...</td>\n",
              "    </tr>\n",
              "    <tr>\n",
              "      <th>247255</th>\n",
              "      <td>('ОНПЗ', 'Товарное производство', 'Товарно-сыр...</td>\n",
              "      <td>Оторваны элементы ограждения площадки обслужив...</td>\n",
              "    </tr>\n",
              "    <tr>\n",
              "      <th>247256</th>\n",
              "      <td>('МНПЗ', 'Производство № 1 - первичной перераб...</td>\n",
              "      <td>УБРАТЬ МУСОР ВОЗЛЕ ТБО.</td>\n",
              "    </tr>\n",
              "    <tr>\n",
              "      <th>247257</th>\n",
              "      <td>('МНПЗ', 'Производство № 2 - каталитического к...</td>\n",
              "      <td>Старые паронитовые прокладки рядом м насосом Н...</td>\n",
              "    </tr>\n",
              "    <tr>\n",
              "      <th>247258</th>\n",
              "      <td>('МНПЗ', 'Общезаводское хозяйство', 'Комплекс ...</td>\n",
              "      <td>Заканчивается срок поверки манометра на нагнет...</td>\n",
              "    </tr>\n",
              "    <tr>\n",
              "      <th>247259</th>\n",
              "      <td>('МНПЗ', 'Производство № 2 - каталитического к...</td>\n",
              "      <td>Долить масло в бачок насоса Н-104/2.</td>\n",
              "    </tr>\n",
              "  </tbody>\n",
              "</table>\n",
              "<p>247260 rows × 2 columns</p>\n",
              "</div>"
            ],
            "text/plain": [
              "                                                    place                                          precedent\n",
              "0       ('Производство электрообеспечения «Ямал»', 'ПК...  Работник ПО при передвижении по территории ГТЭ...\n",
              "1       ('ТП Ноябрьск ПГИ', 'Не привлекался', 'Не опре...                   Нет поручней на приемных мостках\n",
              "2       ('АО \"Мессояханефтегаз\"', 'Эриэллнефтегазсерви...  Сотрудник сторонней организации находился без ...\n",
              "3       ('АО \"Мессояханефтегаз\"', 'Эриэллнефтегазсерви...  В зоне шланга высокого давления находился рабо...\n",
              "4       ('ООО \"Газпромнефть-Хантос\"', 'Не привлекался'...  При обходе КП-614 было обнаружен перепад по ли...\n",
              "...                                                   ...                                                ...\n",
              "247255  ('ОНПЗ', 'Товарное производство', 'Товарно-сыр...  Оторваны элементы ограждения площадки обслужив...\n",
              "247256  ('МНПЗ', 'Производство № 1 - первичной перераб...                            УБРАТЬ МУСОР ВОЗЛЕ ТБО.\n",
              "247257  ('МНПЗ', 'Производство № 2 - каталитического к...  Старые паронитовые прокладки рядом м насосом Н...\n",
              "247258  ('МНПЗ', 'Общезаводское хозяйство', 'Комплекс ...  Заканчивается срок поверки манометра на нагнет...\n",
              "247259  ('МНПЗ', 'Производство № 2 - каталитического к...               Долить масло в бачок насоса Н-104/2.\n",
              "\n",
              "[247260 rows x 2 columns]"
            ]
          },
          "metadata": {
            "tags": []
          },
          "execution_count": 3
        }
      ]
    },
    {
      "cell_type": "code",
      "metadata": {
        "colab": {
          "base_uri": "https://localhost:8080/"
        },
        "id": "pSaSBHopWRe-",
        "outputId": "d8364973-4f80-4f92-f7ee-8abfca4168ca"
      },
      "source": [
        "data.info()"
      ],
      "execution_count": null,
      "outputs": [
        {
          "output_type": "stream",
          "text": [
            "<class 'pandas.core.frame.DataFrame'>\n",
            "RangeIndex: 247260 entries, 0 to 247259\n",
            "Data columns (total 2 columns):\n",
            " #   Column     Non-Null Count   Dtype \n",
            "---  ------     --------------   ----- \n",
            " 0   place      247260 non-null  object\n",
            " 1   precedent  247254 non-null  object\n",
            "dtypes: object(2)\n",
            "memory usage: 3.8+ MB\n"
          ],
          "name": "stdout"
        }
      ]
    },
    {
      "cell_type": "markdown",
      "metadata": {
        "id": "_zRjrX5f1_jq"
      },
      "source": [
        "Тут мы проводим лемматизацию, предварительно удаляя буквы английского алфавита и ненужные нам символы, а так же фильтруя стоп-слова, которые не несут смысловой нагрузки.\n",
        "Дальше нам нужно создать векторное представление слов. Это можно сделать, например, с помощью tf-idf."
      ]
    },
    {
      "cell_type": "code",
      "metadata": {
        "id": "uL_-WcUef7sq"
      },
      "source": [
        "#patterns = \"[A-Za-z0-9!#$%&'()*+,./:;<=>?@[\\]^_`{|}~—\\\"\\-]+\"\n",
        "patterns = \"[A-Za-z0-9!#$%&«»'()*+,./:;<=>?@[\\]^_`{|}~—\\\"\\-]+\"\n",
        "stopwords_ru = stopwords.words(\"russian\")\n",
        "stopwords_ru.append(\"наблюдал\")\n",
        "stopwords_ru.append(\"обнаружил\")\n",
        "stopwords_ru.append(\"работал\")\n",
        "morph = MorphAnalyzer()\n",
        "short_words = []\n",
        "def lemmatize(doc):\n",
        "    doc = re.sub(patterns, ' ', doc)\n",
        "    tokens = []\n",
        "    for token in doc.split():\n",
        "        token = token.strip()\n",
        "        token = morph.normal_forms(token)[0]  \n",
        "        if (token not in stopwords_ru) and (len(token) >2):\n",
        "            #if (dictionary.check(token)):\n",
        "            tokens.append(token)\n",
        " \n",
        "    #if len(tokens) > 2:\n",
        "        #return tokens\n",
        "    #return None\n",
        "    return tokens\n",
        " \n",
        "def convert_data(data, vectorized_data=False):\n",
        "    filtered_data = pd.DataFrame([])\n",
        "    filtered_data['precedent'] = data['precedent'].astype('str').apply(lemmatize)\n",
        "    vectorizer2 = TfidfVectorizer(max_df=0.1, min_df=0.005)\n",
        "    matrix_precedent = vectorizer2.fit_transform(filtered_data['precedent'].astype('str'))\n",
        "    if (vectorized_data):\n",
        "        filtered_data['place'] = data['place']\n",
        "        vectorizer1 = TfidfVectorizer(max_df=0.1, min_df=0.005)\n",
        "        matrix_place = vectorizer1.fit_transform(filtered_data['place'].astype('str'))\n",
        "        train_data = pd.DataFrame(data=np.hstack((matrix_place.toarray(), matrix_precedent.toarray())), columns=vectorizer1.get_feature_names() + vectorizer2.get_feature_names())\n",
        "        return train_data\n",
        "    else:\n",
        "        return matrix_precedent"
      ],
      "execution_count": null,
      "outputs": []
    },
    {
      "cell_type": "code",
      "metadata": {
        "colab": {
          "base_uri": "https://localhost:8080/",
          "height": 337
        },
        "id": "mkWGeae9q7_r",
        "outputId": "b32d7783-f747-4973-e122-8f4aba77ea39"
      },
      "source": [
        "filtered_data = convert_data(data)"
      ],
      "execution_count": null,
      "outputs": [
        {
          "output_type": "error",
          "ename": "KeyboardInterrupt",
          "evalue": "ignored",
          "traceback": [
            "\u001b[0;31m---------------------------------------------------------------------------\u001b[0m",
            "\u001b[0;31mKeyboardInterrupt\u001b[0m                         Traceback (most recent call last)",
            "\u001b[0;32m<ipython-input-146-b4b80832778c>\u001b[0m in \u001b[0;36m<module>\u001b[0;34m()\u001b[0m\n\u001b[0;32m----> 1\u001b[0;31m \u001b[0mfiltered_data\u001b[0m\u001b[0;34m[\u001b[0m\u001b[0;34m'precedent'\u001b[0m\u001b[0;34m]\u001b[0m \u001b[0;34m=\u001b[0m \u001b[0mdata\u001b[0m\u001b[0;34m[\u001b[0m\u001b[0;34m'precedent'\u001b[0m\u001b[0;34m]\u001b[0m\u001b[0;34m.\u001b[0m\u001b[0mastype\u001b[0m\u001b[0;34m(\u001b[0m\u001b[0;34m'str'\u001b[0m\u001b[0;34m)\u001b[0m\u001b[0;34m.\u001b[0m\u001b[0mapply\u001b[0m\u001b[0;34m(\u001b[0m\u001b[0mlemmatize\u001b[0m\u001b[0;34m)\u001b[0m\u001b[0;34m\u001b[0m\u001b[0;34m\u001b[0m\u001b[0m\n\u001b[0m",
            "\u001b[0;32m/usr/local/lib/python3.6/dist-packages/pandas/core/series.py\u001b[0m in \u001b[0;36mapply\u001b[0;34m(self, func, convert_dtype, args, **kwds)\u001b[0m\n\u001b[1;32m   4210\u001b[0m             \u001b[0;32melse\u001b[0m\u001b[0;34m:\u001b[0m\u001b[0;34m\u001b[0m\u001b[0;34m\u001b[0m\u001b[0m\n\u001b[1;32m   4211\u001b[0m                 \u001b[0mvalues\u001b[0m \u001b[0;34m=\u001b[0m \u001b[0mself\u001b[0m\u001b[0;34m.\u001b[0m\u001b[0mastype\u001b[0m\u001b[0;34m(\u001b[0m\u001b[0mobject\u001b[0m\u001b[0;34m)\u001b[0m\u001b[0;34m.\u001b[0m\u001b[0m_values\u001b[0m\u001b[0;34m\u001b[0m\u001b[0;34m\u001b[0m\u001b[0m\n\u001b[0;32m-> 4212\u001b[0;31m                 \u001b[0mmapped\u001b[0m \u001b[0;34m=\u001b[0m \u001b[0mlib\u001b[0m\u001b[0;34m.\u001b[0m\u001b[0mmap_infer\u001b[0m\u001b[0;34m(\u001b[0m\u001b[0mvalues\u001b[0m\u001b[0;34m,\u001b[0m \u001b[0mf\u001b[0m\u001b[0;34m,\u001b[0m \u001b[0mconvert\u001b[0m\u001b[0;34m=\u001b[0m\u001b[0mconvert_dtype\u001b[0m\u001b[0;34m)\u001b[0m\u001b[0;34m\u001b[0m\u001b[0;34m\u001b[0m\u001b[0m\n\u001b[0m\u001b[1;32m   4213\u001b[0m \u001b[0;34m\u001b[0m\u001b[0m\n\u001b[1;32m   4214\u001b[0m         \u001b[0;32mif\u001b[0m \u001b[0mlen\u001b[0m\u001b[0;34m(\u001b[0m\u001b[0mmapped\u001b[0m\u001b[0;34m)\u001b[0m \u001b[0;32mand\u001b[0m \u001b[0misinstance\u001b[0m\u001b[0;34m(\u001b[0m\u001b[0mmapped\u001b[0m\u001b[0;34m[\u001b[0m\u001b[0;36m0\u001b[0m\u001b[0;34m]\u001b[0m\u001b[0;34m,\u001b[0m \u001b[0mSeries\u001b[0m\u001b[0;34m)\u001b[0m\u001b[0;34m:\u001b[0m\u001b[0;34m\u001b[0m\u001b[0;34m\u001b[0m\u001b[0m\n",
            "\u001b[0;32mpandas/_libs/lib.pyx\u001b[0m in \u001b[0;36mpandas._libs.lib.map_infer\u001b[0;34m()\u001b[0m\n",
            "\u001b[0;32m<ipython-input-145-894191863bf3>\u001b[0m in \u001b[0;36mlemmatize\u001b[0;34m(doc)\u001b[0m\n\u001b[1;32m     11\u001b[0m     \u001b[0;32mfor\u001b[0m \u001b[0mtoken\u001b[0m \u001b[0;32min\u001b[0m \u001b[0mdoc\u001b[0m\u001b[0;34m.\u001b[0m\u001b[0msplit\u001b[0m\u001b[0;34m(\u001b[0m\u001b[0;34m)\u001b[0m\u001b[0;34m:\u001b[0m\u001b[0;34m\u001b[0m\u001b[0;34m\u001b[0m\u001b[0m\n\u001b[1;32m     12\u001b[0m         \u001b[0mtoken\u001b[0m \u001b[0;34m=\u001b[0m \u001b[0mtoken\u001b[0m\u001b[0;34m.\u001b[0m\u001b[0mstrip\u001b[0m\u001b[0;34m(\u001b[0m\u001b[0;34m)\u001b[0m\u001b[0;34m\u001b[0m\u001b[0;34m\u001b[0m\u001b[0m\n\u001b[0;32m---> 13\u001b[0;31m         \u001b[0mtoken\u001b[0m \u001b[0;34m=\u001b[0m \u001b[0mmorph\u001b[0m\u001b[0;34m.\u001b[0m\u001b[0mnormal_forms\u001b[0m\u001b[0;34m(\u001b[0m\u001b[0mtoken\u001b[0m\u001b[0;34m)\u001b[0m\u001b[0;34m[\u001b[0m\u001b[0;36m0\u001b[0m\u001b[0;34m]\u001b[0m\u001b[0;34m\u001b[0m\u001b[0;34m\u001b[0m\u001b[0m\n\u001b[0m\u001b[1;32m     14\u001b[0m         \u001b[0;32mif\u001b[0m \u001b[0mtoken\u001b[0m \u001b[0;32mand\u001b[0m \u001b[0mtoken\u001b[0m \u001b[0;32mnot\u001b[0m \u001b[0;32min\u001b[0m \u001b[0mstopwords_ru\u001b[0m\u001b[0;34m:\u001b[0m\u001b[0;34m\u001b[0m\u001b[0;34m\u001b[0m\u001b[0m\n\u001b[1;32m     15\u001b[0m             \u001b[0mtokens\u001b[0m\u001b[0;34m.\u001b[0m\u001b[0mappend\u001b[0m\u001b[0;34m(\u001b[0m\u001b[0mtoken\u001b[0m\u001b[0;34m)\u001b[0m\u001b[0;34m\u001b[0m\u001b[0;34m\u001b[0m\u001b[0m\n",
            "\u001b[0;32m/usr/local/lib/python3.6/dist-packages/pymorphy2/analyzer.py\u001b[0m in \u001b[0;36mnormal_forms\u001b[0;34m(self, word)\u001b[0m\n\u001b[1;32m    348\u001b[0m         \u001b[0mresult\u001b[0m \u001b[0;34m=\u001b[0m \u001b[0;34m[\u001b[0m\u001b[0;34m]\u001b[0m\u001b[0;34m\u001b[0m\u001b[0;34m\u001b[0m\u001b[0m\n\u001b[1;32m    349\u001b[0m \u001b[0;34m\u001b[0m\u001b[0m\n\u001b[0;32m--> 350\u001b[0;31m         \u001b[0;32mfor\u001b[0m \u001b[0mp\u001b[0m \u001b[0;32min\u001b[0m \u001b[0mself\u001b[0m\u001b[0;34m.\u001b[0m\u001b[0mparse\u001b[0m\u001b[0;34m(\u001b[0m\u001b[0mword\u001b[0m\u001b[0;34m)\u001b[0m\u001b[0;34m:\u001b[0m\u001b[0;34m\u001b[0m\u001b[0;34m\u001b[0m\u001b[0m\n\u001b[0m\u001b[1;32m    351\u001b[0m             \u001b[0mnormal_form\u001b[0m \u001b[0;34m=\u001b[0m \u001b[0mp\u001b[0m\u001b[0;34m[\u001b[0m\u001b[0;36m2\u001b[0m\u001b[0;34m]\u001b[0m\u001b[0;34m\u001b[0m\u001b[0;34m\u001b[0m\u001b[0m\n\u001b[1;32m    352\u001b[0m             \u001b[0;32mif\u001b[0m \u001b[0mnormal_form\u001b[0m \u001b[0;32mnot\u001b[0m \u001b[0;32min\u001b[0m \u001b[0mseen\u001b[0m\u001b[0;34m:\u001b[0m\u001b[0;34m\u001b[0m\u001b[0;34m\u001b[0m\u001b[0m\n",
            "\u001b[0;32m/usr/local/lib/python3.6/dist-packages/pymorphy2/analyzer.py\u001b[0m in \u001b[0;36mparse\u001b[0;34m(self, word)\u001b[0m\n\u001b[1;32m    313\u001b[0m \u001b[0;34m\u001b[0m\u001b[0m\n\u001b[1;32m    314\u001b[0m         \u001b[0;32mfor\u001b[0m \u001b[0manalyzer\u001b[0m\u001b[0;34m,\u001b[0m \u001b[0mis_terminal\u001b[0m \u001b[0;32min\u001b[0m \u001b[0mself\u001b[0m\u001b[0;34m.\u001b[0m\u001b[0m_units\u001b[0m\u001b[0;34m:\u001b[0m\u001b[0;34m\u001b[0m\u001b[0;34m\u001b[0m\u001b[0m\n\u001b[0;32m--> 315\u001b[0;31m             \u001b[0mres\u001b[0m\u001b[0;34m.\u001b[0m\u001b[0mextend\u001b[0m\u001b[0;34m(\u001b[0m\u001b[0manalyzer\u001b[0m\u001b[0;34m.\u001b[0m\u001b[0mparse\u001b[0m\u001b[0;34m(\u001b[0m\u001b[0mword\u001b[0m\u001b[0;34m,\u001b[0m \u001b[0mword_lower\u001b[0m\u001b[0;34m,\u001b[0m \u001b[0mseen\u001b[0m\u001b[0;34m)\u001b[0m\u001b[0;34m)\u001b[0m\u001b[0;34m\u001b[0m\u001b[0;34m\u001b[0m\u001b[0m\n\u001b[0m\u001b[1;32m    316\u001b[0m \u001b[0;34m\u001b[0m\u001b[0m\n\u001b[1;32m    317\u001b[0m             \u001b[0;32mif\u001b[0m \u001b[0mis_terminal\u001b[0m \u001b[0;32mand\u001b[0m \u001b[0mres\u001b[0m\u001b[0;34m:\u001b[0m\u001b[0;34m\u001b[0m\u001b[0;34m\u001b[0m\u001b[0m\n",
            "\u001b[0;32m/usr/local/lib/python3.6/dist-packages/pymorphy2/units/by_lookup.py\u001b[0m in \u001b[0;36mparse\u001b[0;34m(self, word, word_lower, seen_parses)\u001b[0m\n\u001b[1;32m     22\u001b[0m         \"\"\"\n\u001b[1;32m     23\u001b[0m         \u001b[0mres\u001b[0m \u001b[0;34m=\u001b[0m \u001b[0;34m[\u001b[0m\u001b[0;34m]\u001b[0m\u001b[0;34m\u001b[0m\u001b[0;34m\u001b[0m\u001b[0m\n\u001b[0;32m---> 24\u001b[0;31m         \u001b[0mpara_data\u001b[0m \u001b[0;34m=\u001b[0m \u001b[0mself\u001b[0m\u001b[0;34m.\u001b[0m\u001b[0mdict\u001b[0m\u001b[0;34m.\u001b[0m\u001b[0mwords\u001b[0m\u001b[0;34m.\u001b[0m\u001b[0msimilar_items\u001b[0m\u001b[0;34m(\u001b[0m\u001b[0mword_lower\u001b[0m\u001b[0;34m,\u001b[0m \u001b[0mself\u001b[0m\u001b[0;34m.\u001b[0m\u001b[0mmorph\u001b[0m\u001b[0;34m.\u001b[0m\u001b[0mchar_substitutes\u001b[0m\u001b[0;34m)\u001b[0m\u001b[0;34m\u001b[0m\u001b[0;34m\u001b[0m\u001b[0m\n\u001b[0m\u001b[1;32m     25\u001b[0m \u001b[0;34m\u001b[0m\u001b[0m\n\u001b[1;32m     26\u001b[0m         \u001b[0;32mfor\u001b[0m \u001b[0mfixed_word\u001b[0m\u001b[0;34m,\u001b[0m \u001b[0mparses\u001b[0m \u001b[0;32min\u001b[0m \u001b[0mpara_data\u001b[0m\u001b[0;34m:\u001b[0m\u001b[0;34m\u001b[0m\u001b[0;34m\u001b[0m\u001b[0m\n",
            "\u001b[0;32m/usr/local/lib/python3.6/dist-packages/dawg_python/dawgs.py\u001b[0m in \u001b[0;36msimilar_items\u001b[0;34m(self, key, replaces)\u001b[0m\n\u001b[1;32m    367\u001b[0m         \u001b[0municode\u001b[0m \u001b[0mstrings\u001b[0m\u001b[0;34m.\u001b[0m\u001b[0;34m\u001b[0m\u001b[0;34m\u001b[0m\u001b[0m\n\u001b[1;32m    368\u001b[0m         \"\"\"\n\u001b[0;32m--> 369\u001b[0;31m         \u001b[0;32mreturn\u001b[0m \u001b[0mself\u001b[0m\u001b[0;34m.\u001b[0m\u001b[0m_similar_items\u001b[0m\u001b[0;34m(\u001b[0m\u001b[0;34m\"\"\u001b[0m\u001b[0;34m,\u001b[0m \u001b[0mkey\u001b[0m\u001b[0;34m,\u001b[0m \u001b[0mself\u001b[0m\u001b[0;34m.\u001b[0m\u001b[0mdct\u001b[0m\u001b[0;34m.\u001b[0m\u001b[0mROOT\u001b[0m\u001b[0;34m,\u001b[0m \u001b[0mreplaces\u001b[0m\u001b[0;34m)\u001b[0m\u001b[0;34m\u001b[0m\u001b[0;34m\u001b[0m\u001b[0m\n\u001b[0m\u001b[1;32m    370\u001b[0m \u001b[0;34m\u001b[0m\u001b[0m\n\u001b[1;32m    371\u001b[0m \u001b[0;34m\u001b[0m\u001b[0m\n",
            "\u001b[0;32m/usr/local/lib/python3.6/dist-packages/dawg_python/dawgs.py\u001b[0m in \u001b[0;36m_similar_items\u001b[0;34m(self, current_prefix, key, index, replace_chars)\u001b[0m\n\u001b[1;32m    352\u001b[0m             \u001b[0;32mif\u001b[0m \u001b[0mindex\u001b[0m\u001b[0;34m:\u001b[0m\u001b[0;34m\u001b[0m\u001b[0;34m\u001b[0m\u001b[0m\n\u001b[1;32m    353\u001b[0m                 \u001b[0mfound_key\u001b[0m \u001b[0;34m=\u001b[0m \u001b[0mcurrent_prefix\u001b[0m \u001b[0;34m+\u001b[0m \u001b[0mkey\u001b[0m\u001b[0;34m[\u001b[0m\u001b[0mstart_pos\u001b[0m\u001b[0;34m:\u001b[0m\u001b[0;34m]\u001b[0m\u001b[0;34m\u001b[0m\u001b[0;34m\u001b[0m\u001b[0m\n\u001b[0;32m--> 354\u001b[0;31m                 \u001b[0mvalue\u001b[0m \u001b[0;34m=\u001b[0m \u001b[0mself\u001b[0m\u001b[0;34m.\u001b[0m\u001b[0m_value_for_index\u001b[0m\u001b[0;34m(\u001b[0m\u001b[0mindex\u001b[0m\u001b[0;34m)\u001b[0m\u001b[0;34m\u001b[0m\u001b[0;34m\u001b[0m\u001b[0m\n\u001b[0m\u001b[1;32m    355\u001b[0m                 \u001b[0mres\u001b[0m\u001b[0;34m.\u001b[0m\u001b[0minsert\u001b[0m\u001b[0;34m(\u001b[0m\u001b[0;36m0\u001b[0m\u001b[0;34m,\u001b[0m \u001b[0;34m(\u001b[0m\u001b[0mfound_key\u001b[0m\u001b[0;34m,\u001b[0m \u001b[0mvalue\u001b[0m\u001b[0;34m)\u001b[0m\u001b[0;34m)\u001b[0m\u001b[0;34m\u001b[0m\u001b[0;34m\u001b[0m\u001b[0m\n\u001b[1;32m    356\u001b[0m \u001b[0;34m\u001b[0m\u001b[0m\n",
            "\u001b[0;32m/usr/local/lib/python3.6/dist-packages/dawg_python/dawgs.py\u001b[0m in \u001b[0;36m_value_for_index\u001b[0;34m(self, index)\u001b[0m\n\u001b[1;32m    420\u001b[0m \u001b[0;34m\u001b[0m\u001b[0m\n\u001b[1;32m    421\u001b[0m     \u001b[0;32mdef\u001b[0m \u001b[0m_value_for_index\u001b[0m\u001b[0;34m(\u001b[0m\u001b[0mself\u001b[0m\u001b[0;34m,\u001b[0m \u001b[0mindex\u001b[0m\u001b[0;34m)\u001b[0m\u001b[0;34m:\u001b[0m\u001b[0;34m\u001b[0m\u001b[0;34m\u001b[0m\u001b[0m\n\u001b[0;32m--> 422\u001b[0;31m         \u001b[0mvalue\u001b[0m \u001b[0;34m=\u001b[0m \u001b[0msuper\u001b[0m\u001b[0;34m(\u001b[0m\u001b[0mRecordDAWG\u001b[0m\u001b[0;34m,\u001b[0m \u001b[0mself\u001b[0m\u001b[0;34m)\u001b[0m\u001b[0;34m.\u001b[0m\u001b[0m_value_for_index\u001b[0m\u001b[0;34m(\u001b[0m\u001b[0mindex\u001b[0m\u001b[0;34m)\u001b[0m\u001b[0;34m\u001b[0m\u001b[0;34m\u001b[0m\u001b[0m\n\u001b[0m\u001b[1;32m    423\u001b[0m         \u001b[0;32mreturn\u001b[0m \u001b[0;34m[\u001b[0m\u001b[0mself\u001b[0m\u001b[0;34m.\u001b[0m\u001b[0m_struct\u001b[0m\u001b[0;34m.\u001b[0m\u001b[0munpack\u001b[0m\u001b[0;34m(\u001b[0m\u001b[0mval\u001b[0m\u001b[0;34m)\u001b[0m \u001b[0;32mfor\u001b[0m \u001b[0mval\u001b[0m \u001b[0;32min\u001b[0m \u001b[0mvalue\u001b[0m\u001b[0;34m]\u001b[0m\u001b[0;34m\u001b[0m\u001b[0;34m\u001b[0m\u001b[0m\n\u001b[1;32m    424\u001b[0m \u001b[0;34m\u001b[0m\u001b[0m\n",
            "\u001b[0;32m/usr/local/lib/python3.6/dist-packages/dawg_python/dawgs.py\u001b[0m in \u001b[0;36m_value_for_index\u001b[0;34m(self, index)\u001b[0m\n\u001b[1;32m    225\u001b[0m \u001b[0;34m\u001b[0m\u001b[0m\n\u001b[1;32m    226\u001b[0m         \u001b[0mcompleter\u001b[0m\u001b[0;34m.\u001b[0m\u001b[0mstart\u001b[0m\u001b[0;34m(\u001b[0m\u001b[0mindex\u001b[0m\u001b[0;34m)\u001b[0m\u001b[0;34m\u001b[0m\u001b[0;34m\u001b[0m\u001b[0m\n\u001b[0;32m--> 227\u001b[0;31m         \u001b[0;32mwhile\u001b[0m \u001b[0mcompleter\u001b[0m\u001b[0;34m.\u001b[0m\u001b[0mnext\u001b[0m\u001b[0;34m(\u001b[0m\u001b[0;34m)\u001b[0m\u001b[0;34m:\u001b[0m\u001b[0;34m\u001b[0m\u001b[0;34m\u001b[0m\u001b[0m\n\u001b[0m\u001b[1;32m    228\u001b[0m             \u001b[0;31m# a2b_base64 doesn't support bytearray in python 2.6\u001b[0m\u001b[0;34m\u001b[0m\u001b[0;34m\u001b[0m\u001b[0;34m\u001b[0m\u001b[0m\n\u001b[1;32m    229\u001b[0m             \u001b[0;31m# so it is converted (and copied) to bytes\u001b[0m\u001b[0;34m\u001b[0m\u001b[0;34m\u001b[0m\u001b[0;34m\u001b[0m\u001b[0m\n",
            "\u001b[0;32m/usr/local/lib/python3.6/dist-packages/dawg_python/wrapper.py\u001b[0m in \u001b[0;36mnext\u001b[0;34m(self)\u001b[0m\n\u001b[1;32m    152\u001b[0m                         \u001b[0;32mbreak\u001b[0m\u001b[0;34m\u001b[0m\u001b[0;34m\u001b[0m\u001b[0m\n\u001b[1;32m    153\u001b[0m \u001b[0;34m\u001b[0m\u001b[0m\n\u001b[0;32m--> 154\u001b[0;31m         \u001b[0;32mreturn\u001b[0m \u001b[0mself\u001b[0m\u001b[0;34m.\u001b[0m\u001b[0m_find_terminal\u001b[0m\u001b[0;34m(\u001b[0m\u001b[0mindex\u001b[0m\u001b[0;34m)\u001b[0m\u001b[0;34m\u001b[0m\u001b[0;34m\u001b[0m\u001b[0m\n\u001b[0m\u001b[1;32m    155\u001b[0m \u001b[0;34m\u001b[0m\u001b[0m\n\u001b[1;32m    156\u001b[0m     \u001b[0;32mdef\u001b[0m \u001b[0m_follow\u001b[0m\u001b[0;34m(\u001b[0m\u001b[0mself\u001b[0m\u001b[0;34m,\u001b[0m \u001b[0mlabel\u001b[0m\u001b[0;34m,\u001b[0m \u001b[0mindex\u001b[0m\u001b[0;34m)\u001b[0m\u001b[0;34m:\u001b[0m\u001b[0;34m\u001b[0m\u001b[0;34m\u001b[0m\u001b[0m\n",
            "\u001b[0;32m/usr/local/lib/python3.6/dist-packages/dawg_python/wrapper.py\u001b[0m in \u001b[0;36m_find_terminal\u001b[0;34m(self, index)\u001b[0m\n\u001b[1;32m    172\u001b[0m \u001b[0;34m\u001b[0m\u001b[0m\n\u001b[1;32m    173\u001b[0m             \u001b[0mself\u001b[0m\u001b[0;34m.\u001b[0m\u001b[0mkey\u001b[0m\u001b[0;34m.\u001b[0m\u001b[0mappend\u001b[0m\u001b[0;34m(\u001b[0m\u001b[0mlabel\u001b[0m\u001b[0;34m)\u001b[0m\u001b[0;34m\u001b[0m\u001b[0;34m\u001b[0m\u001b[0m\n\u001b[0;32m--> 174\u001b[0;31m             \u001b[0mself\u001b[0m\u001b[0;34m.\u001b[0m\u001b[0m_index_stack\u001b[0m\u001b[0;34m.\u001b[0m\u001b[0mappend\u001b[0m\u001b[0;34m(\u001b[0m\u001b[0mindex\u001b[0m\u001b[0;34m)\u001b[0m\u001b[0;34m\u001b[0m\u001b[0;34m\u001b[0m\u001b[0m\n\u001b[0m\u001b[1;32m    175\u001b[0m \u001b[0;34m\u001b[0m\u001b[0m\n\u001b[1;32m    176\u001b[0m         \u001b[0mself\u001b[0m\u001b[0;34m.\u001b[0m\u001b[0m_last_index\u001b[0m \u001b[0;34m=\u001b[0m \u001b[0mindex\u001b[0m\u001b[0;34m\u001b[0m\u001b[0;34m\u001b[0m\u001b[0m\n",
            "\u001b[0;31mKeyboardInterrupt\u001b[0m: "
          ]
        }
      ]
    },
    {
      "cell_type": "code",
      "metadata": {
        "colab": {
          "base_uri": "https://localhost:8080/",
          "height": 402
        },
        "id": "hXx5znDwxVzX",
        "outputId": "7394a6d0-ff3e-47c6-b6b0-045598c110c4"
      },
      "source": [
        "filtered_data"
      ],
      "execution_count": null,
      "outputs": [
        {
          "output_type": "execute_result",
          "data": {
            "text/html": [
              "<div>\n",
              "<style scoped>\n",
              "    .dataframe tbody tr th:only-of-type {\n",
              "        vertical-align: middle;\n",
              "    }\n",
              "\n",
              "    .dataframe tbody tr th {\n",
              "        vertical-align: top;\n",
              "    }\n",
              "\n",
              "    .dataframe thead th {\n",
              "        text-align: right;\n",
              "    }\n",
              "</style>\n",
              "<table border=\"1\" class=\"dataframe\">\n",
              "  <thead>\n",
              "    <tr style=\"text-align: right;\">\n",
              "      <th></th>\n",
              "      <th>Unnamed: 0</th>\n",
              "      <th>place</th>\n",
              "      <th>precedent</th>\n",
              "    </tr>\n",
              "  </thead>\n",
              "  <tbody>\n",
              "    <tr>\n",
              "      <th>0</th>\n",
              "      <td>0</td>\n",
              "      <td>['производство', 'электрообеспечение', '«ямал»...</td>\n",
              "      <td>['работник', 'по', 'передвижение', 'территория...</td>\n",
              "    </tr>\n",
              "    <tr>\n",
              "      <th>1</th>\n",
              "      <td>1</td>\n",
              "      <td>['тп', 'ноябрьск', 'пги', 'не', 'привлекаться'...</td>\n",
              "      <td>['нет', 'поручный', 'приёмный', 'мосток']</td>\n",
              "    </tr>\n",
              "    <tr>\n",
              "      <th>2</th>\n",
              "      <td>2</td>\n",
              "      <td>['ао', 'мессояханефтегаз', 'эриэллнефтегазсерв...</td>\n",
              "      <td>['сотрудник', 'сторонний', 'организация', 'нах...</td>\n",
              "    </tr>\n",
              "    <tr>\n",
              "      <th>3</th>\n",
              "      <td>3</td>\n",
              "      <td>['ао', 'мессояханефтегаз', 'эриэллнефтегазсерв...</td>\n",
              "      <td>['в', 'зона', 'шланг', 'высокий', 'давление', ...</td>\n",
              "    </tr>\n",
              "    <tr>\n",
              "      <th>4</th>\n",
              "      <td>4</td>\n",
              "      <td>['ооо', 'газпромнефть', 'хантос', 'не', 'привл...</td>\n",
              "      <td>['при', 'обход', 'кп', '614', 'обнаружить', 'п...</td>\n",
              "    </tr>\n",
              "    <tr>\n",
              "      <th>...</th>\n",
              "      <td>...</td>\n",
              "      <td>...</td>\n",
              "      <td>...</td>\n",
              "    </tr>\n",
              "    <tr>\n",
              "      <th>247255</th>\n",
              "      <td>247255</td>\n",
              "      <td>['онпз', 'товарный', 'производство', 'товарный...</td>\n",
              "      <td>['оторвать', 'элемент', 'ограждение', 'площадк...</td>\n",
              "    </tr>\n",
              "    <tr>\n",
              "      <th>247256</th>\n",
              "      <td>247256</td>\n",
              "      <td>['мнпз', 'производство', '№', '1', 'первичный'...</td>\n",
              "      <td>['убрать', 'мусор', 'возле', 'тбо']</td>\n",
              "    </tr>\n",
              "    <tr>\n",
              "      <th>247257</th>\n",
              "      <td>247257</td>\n",
              "      <td>['мнпз', 'производство', '№', '2', 'каталитиче...</td>\n",
              "      <td>['старый', 'паронитовый', 'прокладка', 'рядом'...</td>\n",
              "    </tr>\n",
              "    <tr>\n",
              "      <th>247258</th>\n",
              "      <td>247258</td>\n",
              "      <td>['мнпз', 'общезаводский', 'хозяйство', 'компле...</td>\n",
              "      <td>['заканчиваться', 'срок', 'поверка', 'манометр...</td>\n",
              "    </tr>\n",
              "    <tr>\n",
              "      <th>247259</th>\n",
              "      <td>247259</td>\n",
              "      <td>['мнпз', 'производство', '№', '2', 'каталитиче...</td>\n",
              "      <td>['долить', 'масло', 'бачок', 'насос', 'н', '10...</td>\n",
              "    </tr>\n",
              "  </tbody>\n",
              "</table>\n",
              "<p>247260 rows × 3 columns</p>\n",
              "</div>"
            ],
            "text/plain": [
              "        Unnamed: 0  ...                                          precedent\n",
              "0                0  ...  ['работник', 'по', 'передвижение', 'территория...\n",
              "1                1  ...          ['нет', 'поручный', 'приёмный', 'мосток']\n",
              "2                2  ...  ['сотрудник', 'сторонний', 'организация', 'нах...\n",
              "3                3  ...  ['в', 'зона', 'шланг', 'высокий', 'давление', ...\n",
              "4                4  ...  ['при', 'обход', 'кп', '614', 'обнаружить', 'п...\n",
              "...            ...  ...                                                ...\n",
              "247255      247255  ...  ['оторвать', 'элемент', 'ограждение', 'площадк...\n",
              "247256      247256  ...                ['убрать', 'мусор', 'возле', 'тбо']\n",
              "247257      247257  ...  ['старый', 'паронитовый', 'прокладка', 'рядом'...\n",
              "247258      247258  ...  ['заканчиваться', 'срок', 'поверка', 'манометр...\n",
              "247259      247259  ...  ['долить', 'масло', 'бачок', 'насос', 'н', '10...\n",
              "\n",
              "[247260 rows x 3 columns]"
            ]
          },
          "metadata": {
            "tags": []
          },
          "execution_count": 11
        }
      ]
    },
    {
      "cell_type": "code",
      "metadata": {
        "id": "PE33RBwTki4s"
      },
      "source": [
        "filtered_data.to_excel('/content/drive/MyDrive/filtered_precedents_data.xlsx')"
      ],
      "execution_count": null,
      "outputs": []
    },
    {
      "cell_type": "code",
      "metadata": {
        "id": "0tYq8ManEHCx"
      },
      "source": [
        "filtered_data = pd.read_excel('/content/drive/MyDrive/filtered_precedents_data.xlsx')"
      ],
      "execution_count": null,
      "outputs": []
    },
    {
      "cell_type": "code",
      "metadata": {
        "id": "fKfnd2xkrkPU"
      },
      "source": [
        "filtered_data3 = pd.read_excel('/content/drive/MyDrive/filtered_precedents_data(len>3).xlsx')"
      ],
      "execution_count": null,
      "outputs": []
    },
    {
      "cell_type": "code",
      "metadata": {
        "id": "kCZ4yLR_EzkD"
      },
      "source": [
        "final_data = pd.read_excel('/content/drive/MyDrive/filtered_precedents_data_final.xlsx')"
      ],
      "execution_count": null,
      "outputs": []
    },
    {
      "cell_type": "code",
      "metadata": {
        "id": "9CAnxAuwHnnn"
      },
      "source": [
        "vectorizer3 = TfidfVectorizer(max_df=0.1, min_df=0.005)\n",
        "matrix_precedent3 = vectorizer3.fit_transform(filtered_data3['precedent'].astype('str'))"
      ],
      "execution_count": null,
      "outputs": []
    },
    {
      "cell_type": "code",
      "metadata": {
        "colab": {
          "base_uri": "https://localhost:8080/"
        },
        "id": "8t_TKL7-Fnn-",
        "outputId": "1776f8d2-4540-46aa-a48a-9a06459314f9"
      },
      "source": [
        "matrix_precedent3"
      ],
      "execution_count": null,
      "outputs": [
        {
          "output_type": "execute_result",
          "data": {
            "text/plain": [
              "<247260x312 sparse matrix of type '<class 'numpy.float64'>'\n",
              "\twith 1279354 stored elements in Compressed Sparse Row format>"
            ]
          },
          "metadata": {
            "tags": []
          },
          "execution_count": 13
        }
      ]
    },
    {
      "cell_type": "code",
      "metadata": {
        "id": "ezW8qfjItuMx"
      },
      "source": [
        "cls3 = DBSCAN(eps=0.78, min_samples=100).fit_predict(matrix_precedent3[:25000])"
      ],
      "execution_count": null,
      "outputs": []
    },
    {
      "cell_type": "code",
      "metadata": {
        "colab": {
          "base_uri": "https://localhost:8080/"
        },
        "id": "6wMjiqgwt3q2",
        "outputId": "267fe197-889a-471f-f4b2-cd7d51c24cff"
      },
      "source": [
        "pd.Series(cls3).unique()"
      ],
      "execution_count": null,
      "outputs": [
        {
          "output_type": "execute_result",
          "data": {
            "text/plain": [
              "array([-1,  0,  3,  1,  2, 12,  4,  5, 10,  6, 15, 14,  8,  7,  9, 13, 11])"
            ]
          },
          "metadata": {
            "tags": []
          },
          "execution_count": 94
        }
      ]
    },
    {
      "cell_type": "code",
      "metadata": {
        "colab": {
          "base_uri": "https://localhost:8080/",
          "height": 343
        },
        "id": "VDeXAd-KvFqX",
        "outputId": "a516d520-aa1a-42c2-b3f8-4c98897dc9c1"
      },
      "source": [
        "data[:25000][cls3 == 12].sample(10)"
      ],
      "execution_count": null,
      "outputs": [
        {
          "output_type": "execute_result",
          "data": {
            "text/html": [
              "<div>\n",
              "<style scoped>\n",
              "    .dataframe tbody tr th:only-of-type {\n",
              "        vertical-align: middle;\n",
              "    }\n",
              "\n",
              "    .dataframe tbody tr th {\n",
              "        vertical-align: top;\n",
              "    }\n",
              "\n",
              "    .dataframe thead th {\n",
              "        text-align: right;\n",
              "    }\n",
              "</style>\n",
              "<table border=\"1\" class=\"dataframe\">\n",
              "  <thead>\n",
              "    <tr style=\"text-align: right;\">\n",
              "      <th></th>\n",
              "      <th>place</th>\n",
              "      <th>precedent</th>\n",
              "    </tr>\n",
              "  </thead>\n",
              "  <tbody>\n",
              "    <tr>\n",
              "      <th>14752</th>\n",
              "      <td>('АО \"Газпромнефть-Ноябрьскнефтегаз\"', 'Не при...</td>\n",
              "      <td>Пропуск по сальниковым уплотнениям на НВО-1\\n</td>\n",
              "    </tr>\n",
              "    <tr>\n",
              "      <th>3791</th>\n",
              "      <td>('АО \"Газпромнефть-Ноябрьскнефтегаз\"', 'Не при...</td>\n",
              "      <td>Пропуски по сальниковому уплотнению цднг 5 твр...</td>\n",
              "    </tr>\n",
              "    <tr>\n",
              "      <th>16169</th>\n",
              "      <td>('АО \"Газпромнефть-Ноябрьскнефтегаз\"', 'Не при...</td>\n",
              "      <td>Пропуски жидкости по сальниковому уплотнению в...</td>\n",
              "    </tr>\n",
              "    <tr>\n",
              "      <th>14248</th>\n",
              "      <td>('АО \"Газпромнефть-Ноябрьскнефтегаз\"', 'Не при...</td>\n",
              "      <td>Требуется ревизия сальникового уплотнения ЗКЛ ...</td>\n",
              "    </tr>\n",
              "    <tr>\n",
              "      <th>15145</th>\n",
              "      <td>('ООО \"Газпромнефть-Хантос\"', 'Не привлекался'...</td>\n",
              "      <td>Пропуски жидкости через сальниковые уплотнения...</td>\n",
              "    </tr>\n",
              "    <tr>\n",
              "      <th>4695</th>\n",
              "      <td>('АО \"Газпромнефть-Ноябрьскнефтегаз\"', 'Не при...</td>\n",
              "      <td>Пропуск жидкости по сальниковому уплотнению НВ...</td>\n",
              "    </tr>\n",
              "    <tr>\n",
              "      <th>9579</th>\n",
              "      <td>('АО \"Газпромнефть-Ноябрьскнефтегаз\"', 'Не при...</td>\n",
              "      <td>к.16 Б Суторминское м/р  пропуски по сальников...</td>\n",
              "    </tr>\n",
              "    <tr>\n",
              "      <th>3596</th>\n",
              "      <td>('Филиал \"Газпромнефть-Муравленко\"', 'Не привл...</td>\n",
              "      <td>Утечка газа по сальниковому уплотнению ЗКЛ.</td>\n",
              "    </tr>\n",
              "    <tr>\n",
              "      <th>3836</th>\n",
              "      <td>('Производство ТВС N1', 'Не привлекался', 'Не ...</td>\n",
              "      <td>При запуске насоса в МКНУ №2 слышен посторонни...</td>\n",
              "    </tr>\n",
              "    <tr>\n",
              "      <th>22331</th>\n",
              "      <td>('АО \"Газпромнефть-Ноябрьскнефтегаз\"', 'Не при...</td>\n",
              "      <td>к.182 АГЗУ Суторминского м/р пропуски по сальн...</td>\n",
              "    </tr>\n",
              "  </tbody>\n",
              "</table>\n",
              "</div>"
            ],
            "text/plain": [
              "                                                   place                                          precedent\n",
              "14752  ('АО \"Газпромнефть-Ноябрьскнефтегаз\"', 'Не при...      Пропуск по сальниковым уплотнениям на НВО-1\\n\n",
              "3791   ('АО \"Газпромнефть-Ноябрьскнефтегаз\"', 'Не при...  Пропуски по сальниковому уплотнению цднг 5 твр...\n",
              "16169  ('АО \"Газпромнефть-Ноябрьскнефтегаз\"', 'Не при...  Пропуски жидкости по сальниковому уплотнению в...\n",
              "14248  ('АО \"Газпромнефть-Ноябрьскнефтегаз\"', 'Не при...  Требуется ревизия сальникового уплотнения ЗКЛ ...\n",
              "15145  ('ООО \"Газпромнефть-Хантос\"', 'Не привлекался'...  Пропуски жидкости через сальниковые уплотнения...\n",
              "4695   ('АО \"Газпромнефть-Ноябрьскнефтегаз\"', 'Не при...  Пропуск жидкости по сальниковому уплотнению НВ...\n",
              "9579   ('АО \"Газпромнефть-Ноябрьскнефтегаз\"', 'Не при...  к.16 Б Суторминское м/р  пропуски по сальников...\n",
              "3596   ('Филиал \"Газпромнефть-Муравленко\"', 'Не привл...        Утечка газа по сальниковому уплотнению ЗКЛ.\n",
              "3836   ('Производство ТВС N1', 'Не привлекался', 'Не ...  При запуске насоса в МКНУ №2 слышен посторонни...\n",
              "22331  ('АО \"Газпромнефть-Ноябрьскнефтегаз\"', 'Не при...  к.182 АГЗУ Суторминского м/р пропуски по сальн..."
            ]
          },
          "metadata": {
            "tags": []
          },
          "execution_count": 119
        }
      ]
    },
    {
      "cell_type": "code",
      "metadata": {
        "id": "dVp2MvkOvKSw"
      },
      "source": [
        "clustering3 = MiniBatchKMeans(n_clusters=6).fit_predict(matrix_precedent3)"
      ],
      "execution_count": null,
      "outputs": []
    },
    {
      "cell_type": "code",
      "metadata": {
        "colab": {
          "base_uri": "https://localhost:8080/",
          "height": 162
        },
        "id": "VTRosnwGv3za",
        "outputId": "2ce31094-219f-47dd-e27f-e93a98ae555f"
      },
      "source": [
        "data[clustering3 == 5]#.sample(10)"
      ],
      "execution_count": null,
      "outputs": [
        {
          "output_type": "error",
          "ename": "NameError",
          "evalue": "ignored",
          "traceback": [
            "\u001b[0;31m---------------------------------------------------------------------------\u001b[0m",
            "\u001b[0;31mNameError\u001b[0m                                 Traceback (most recent call last)",
            "\u001b[0;32m<ipython-input-75-113b44cb5b40>\u001b[0m in \u001b[0;36m<module>\u001b[0;34m()\u001b[0m\n\u001b[0;32m----> 1\u001b[0;31m \u001b[0mdata\u001b[0m\u001b[0;34m[\u001b[0m\u001b[0mclustering3\u001b[0m \u001b[0;34m==\u001b[0m \u001b[0;36m5\u001b[0m\u001b[0;34m]\u001b[0m\u001b[0;31m#.sample(10)\u001b[0m\u001b[0;34m\u001b[0m\u001b[0;34m\u001b[0m\u001b[0m\n\u001b[0m",
            "\u001b[0;31mNameError\u001b[0m: name 'clustering3' is not defined"
          ]
        }
      ]
    },
    {
      "cell_type": "code",
      "metadata": {
        "id": "OoUEat4g6ubi"
      },
      "source": [
        "from sklearn.manifold import TSNE\n",
        "import matplotlib.cm as cm"
      ],
      "execution_count": null,
      "outputs": []
    },
    {
      "cell_type": "code",
      "metadata": {
        "id": "ojaCsljL_0yG"
      },
      "source": [
        "tsne = TSNE(random_state = 321)\n",
        "tsne_representation = tsne.fit_transform(matrix_precedent3[:1000])"
      ],
      "execution_count": null,
      "outputs": []
    },
    {
      "cell_type": "code",
      "metadata": {
        "colab": {
          "base_uri": "https://localhost:8080/",
          "height": 402
        },
        "id": "2WZzgw-H_66A",
        "outputId": "700a2a68-4964-4665-ffbc-97a700d9d2ea"
      },
      "source": [
        "colors = cm.rainbow(np.linspace(0, 1, len(set(clustering3[:1000]))))\n",
        "for y, c in zip(set(clustering3[:1000]), colors):\n",
        "    plt.scatter(tsne_representation[clustering3[:1000]==y, 0], \n",
        "                tsne_representation[clustering3[:1000]==y, 1], c=c, alpha=0.5, label=str(y))\n",
        "plt.legend()"
      ],
      "execution_count": null,
      "outputs": [
        {
          "output_type": "stream",
          "text": [
            "*c* argument looks like a single numeric RGB or RGBA sequence, which should be avoided as value-mapping will have precedence in case its length matches with *x* & *y*.  Please use the *color* keyword-argument or provide a 2-D array with a single row if you intend to specify the same RGB or RGBA value for all points.\n",
            "*c* argument looks like a single numeric RGB or RGBA sequence, which should be avoided as value-mapping will have precedence in case its length matches with *x* & *y*.  Please use the *color* keyword-argument or provide a 2-D array with a single row if you intend to specify the same RGB or RGBA value for all points.\n",
            "*c* argument looks like a single numeric RGB or RGBA sequence, which should be avoided as value-mapping will have precedence in case its length matches with *x* & *y*.  Please use the *color* keyword-argument or provide a 2-D array with a single row if you intend to specify the same RGB or RGBA value for all points.\n",
            "*c* argument looks like a single numeric RGB or RGBA sequence, which should be avoided as value-mapping will have precedence in case its length matches with *x* & *y*.  Please use the *color* keyword-argument or provide a 2-D array with a single row if you intend to specify the same RGB or RGBA value for all points.\n",
            "*c* argument looks like a single numeric RGB or RGBA sequence, which should be avoided as value-mapping will have precedence in case its length matches with *x* & *y*.  Please use the *color* keyword-argument or provide a 2-D array with a single row if you intend to specify the same RGB or RGBA value for all points.\n",
            "*c* argument looks like a single numeric RGB or RGBA sequence, which should be avoided as value-mapping will have precedence in case its length matches with *x* & *y*.  Please use the *color* keyword-argument or provide a 2-D array with a single row if you intend to specify the same RGB or RGBA value for all points.\n"
          ],
          "name": "stderr"
        },
        {
          "output_type": "execute_result",
          "data": {
            "text/plain": [
              "<matplotlib.legend.Legend at 0x7f5c7f79d358>"
            ]
          },
          "metadata": {
            "tags": []
          },
          "execution_count": 57
        },
        {
          "output_type": "display_data",
          "data": {
            "image/png": "[encoded data removed]",
            "text/plain": [
              "<Figure size 432x288 with 1 Axes>"
            ]
          },
          "metadata": {
            "tags": [],
            "needs_background": "light"
          }
        }
      ]
    },
    {
      "cell_type": "code",
      "metadata": {
        "id": "7bFBmzE3DQnZ"
      },
      "source": [
        ""
      ],
      "execution_count": null,
      "outputs": []
    },
    {
      "cell_type": "code",
      "metadata": {
        "id": "g1qIGGvsHmRV"
      },
      "source": [
        "cls3 = DBSCAN(eps=0.775, min_samples=200).fit_predict(matrix_precedent3)"
      ],
      "execution_count": null,
      "outputs": []
    },
    {
      "cell_type": "code",
      "metadata": {
        "id": "t37Ubwj1Nd8B"
      },
      "source": [
        "pd.Series(cls3).to_excel('/content/drive/MyDrive/cls.xlsx')"
      ],
      "execution_count": null,
      "outputs": []
    },
    {
      "cell_type": "code",
      "metadata": {
        "colab": {
          "base_uri": "https://localhost:8080/"
        },
        "id": "D-hxxsDwHmRV",
        "outputId": "85ab3bda-6d2d-418c-ee2e-6ddb6d1220a0"
      },
      "source": [
        "pd.Series(cls3).unique()"
      ],
      "execution_count": null,
      "outputs": [
        {
          "output_type": "execute_result",
          "data": {
            "text/plain": [
              "array([-1,  0,  1,  6,  5,  7,  4,  2,  3, 10, 11, 12,  8,  9, 13])"
            ]
          },
          "metadata": {
            "tags": []
          },
          "execution_count": 28
        }
      ]
    },
    {
      "cell_type": "code",
      "metadata": {
        "colab": {
          "base_uri": "https://localhost:8080/",
          "height": 402
        },
        "id": "VnI6JixzHmRW",
        "outputId": "4b2f7a26-0546-495a-d151-b2c7e7ddd325"
      },
      "source": [
        "data[cls3 == 2]#.sample(10)"
      ],
      "execution_count": null,
      "outputs": [
        {
          "output_type": "execute_result",
          "data": {
            "text/html": [
              "<div>\n",
              "<style scoped>\n",
              "    .dataframe tbody tr th:only-of-type {\n",
              "        vertical-align: middle;\n",
              "    }\n",
              "\n",
              "    .dataframe tbody tr th {\n",
              "        vertical-align: top;\n",
              "    }\n",
              "\n",
              "    .dataframe thead th {\n",
              "        text-align: right;\n",
              "    }\n",
              "</style>\n",
              "<table border=\"1\" class=\"dataframe\">\n",
              "  <thead>\n",
              "    <tr style=\"text-align: right;\">\n",
              "      <th></th>\n",
              "      <th>place</th>\n",
              "      <th>precedent</th>\n",
              "    </tr>\n",
              "  </thead>\n",
              "  <tbody>\n",
              "    <tr>\n",
              "      <th>683</th>\n",
              "      <td>('АО \"Мессояханефтегаз\"', 'Интелект Дриллинг С...</td>\n",
              "      <td>Не закрыт цепочками выход на наклонный желоб</td>\n",
              "    </tr>\n",
              "    <tr>\n",
              "      <th>1697</th>\n",
              "      <td>('АО \"Мессояханефтегаз\"', 'АКРОС ООО', 'Бурени...</td>\n",
              "      <td>В БДЕ люк не был закрыт</td>\n",
              "    </tr>\n",
              "    <tr>\n",
              "      <th>2463</th>\n",
              "      <td>('Производство ТВС N1', 'Не привлекался', 'Не ...</td>\n",
              "      <td>Обнаружил не закрытый распределительный щит.</td>\n",
              "    </tr>\n",
              "    <tr>\n",
              "      <th>2468</th>\n",
              "      <td>('ООО \"Ноябрьскэнергонефть\"', 'Не привлекался'...</td>\n",
              "      <td>Обнаружил не закрытый распределительный щит.</td>\n",
              "    </tr>\n",
              "    <tr>\n",
              "      <th>2963</th>\n",
              "      <td>('АО \"Мессояханефтегаз\"', 'Халлибуртон Интернэ...</td>\n",
              "      <td>Не закрыт люк в БПР</td>\n",
              "    </tr>\n",
              "    <tr>\n",
              "      <th>...</th>\n",
              "      <td>...</td>\n",
              "      <td>...</td>\n",
              "    </tr>\n",
              "    <tr>\n",
              "      <th>246471</th>\n",
              "      <td>('МНПЗ', 'Производство № 1 - первичной перераб...</td>\n",
              "      <td>Не плотно закрыт люк колодца после промывки ка...</td>\n",
              "    </tr>\n",
              "    <tr>\n",
              "      <th>246785</th>\n",
              "      <td>('МНПЗ', 'Общезаводское хозяйство', 'Комплекс ...</td>\n",
              "      <td>Не герметично закрыты танкеры в помещение филь...</td>\n",
              "    </tr>\n",
              "    <tr>\n",
              "      <th>246849</th>\n",
              "      <td>('МНПЗ', 'Общезаводское хозяйство', 'Комплекс ...</td>\n",
              "      <td>Приямок не закрыт просечным листом.</td>\n",
              "    </tr>\n",
              "    <tr>\n",
              "      <th>246852</th>\n",
              "      <td>('МНПЗ', 'Общезаводское хозяйство', 'Комплекс ...</td>\n",
              "      <td>В насосной 2УППВ дренажный приямок не закрыт п...</td>\n",
              "    </tr>\n",
              "    <tr>\n",
              "      <th>246971</th>\n",
              "      <td>('ООО ГПН-Логистика', 'Омский центр отгрузки н...</td>\n",
              "      <td>На ЗКЛ №2/12 не видны направления стрелок откр...</td>\n",
              "    </tr>\n",
              "  </tbody>\n",
              "</table>\n",
              "<p>233 rows × 2 columns</p>\n",
              "</div>"
            ],
            "text/plain": [
              "                                                    place                                          precedent\n",
              "683     ('АО \"Мессояханефтегаз\"', 'Интелект Дриллинг С...       Не закрыт цепочками выход на наклонный желоб\n",
              "1697    ('АО \"Мессояханефтегаз\"', 'АКРОС ООО', 'Бурени...                            В БДЕ люк не был закрыт\n",
              "2463    ('Производство ТВС N1', 'Не привлекался', 'Не ...       Обнаружил не закрытый распределительный щит.\n",
              "2468    ('ООО \"Ноябрьскэнергонефть\"', 'Не привлекался'...       Обнаружил не закрытый распределительный щит.\n",
              "2963    ('АО \"Мессояханефтегаз\"', 'Халлибуртон Интернэ...                                Не закрыт люк в БПР\n",
              "...                                                   ...                                                ...\n",
              "246471  ('МНПЗ', 'Производство № 1 - первичной перераб...  Не плотно закрыт люк колодца после промывки ка...\n",
              "246785  ('МНПЗ', 'Общезаводское хозяйство', 'Комплекс ...  Не герметично закрыты танкеры в помещение филь...\n",
              "246849  ('МНПЗ', 'Общезаводское хозяйство', 'Комплекс ...                Приямок не закрыт просечным листом.\n",
              "246852  ('МНПЗ', 'Общезаводское хозяйство', 'Комплекс ...  В насосной 2УППВ дренажный приямок не закрыт п...\n",
              "246971  ('ООО ГПН-Логистика', 'Омский центр отгрузки н...  На ЗКЛ №2/12 не видны направления стрелок откр...\n",
              "\n",
              "[233 rows x 2 columns]"
            ]
          },
          "metadata": {
            "tags": []
          },
          "execution_count": 25
        }
      ]
    },
    {
      "cell_type": "code",
      "metadata": {
        "id": "EGvcuK1TiBOh"
      },
      "source": [
        "vectorizer4 = TfidfVectorizer(max_df=0.1, min_df=0.005)\n",
        "matrix_precedent4 = vectorizer4.fit_transform(final_data['precedent'].astype('str'))"
      ],
      "execution_count": null,
      "outputs": []
    },
    {
      "cell_type": "code",
      "metadata": {
        "colab": {
          "base_uri": "https://localhost:8080/",
          "height": 402
        },
        "id": "pbvlSc6BiwGF",
        "outputId": "1a44e095-0754-4a9c-ef85-16b6137c5c0e"
      },
      "source": [
        "final_data"
      ],
      "execution_count": null,
      "outputs": [
        {
          "output_type": "execute_result",
          "data": {
            "text/html": [
              "<div>\n",
              "<style scoped>\n",
              "    .dataframe tbody tr th:only-of-type {\n",
              "        vertical-align: middle;\n",
              "    }\n",
              "\n",
              "    .dataframe tbody tr th {\n",
              "        vertical-align: top;\n",
              "    }\n",
              "\n",
              "    .dataframe thead th {\n",
              "        text-align: right;\n",
              "    }\n",
              "</style>\n",
              "<table border=\"1\" class=\"dataframe\">\n",
              "  <thead>\n",
              "    <tr style=\"text-align: right;\">\n",
              "      <th></th>\n",
              "      <th>Unnamed: 0</th>\n",
              "      <th>precedent</th>\n",
              "      <th>place</th>\n",
              "    </tr>\n",
              "  </thead>\n",
              "  <tbody>\n",
              "    <tr>\n",
              "      <th>0</th>\n",
              "      <td>0</td>\n",
              "      <td>['работник', 'передвижение', 'территория', 'ос...</td>\n",
              "      <td>('Производство электрообеспечения «Ямал»', 'ПК...</td>\n",
              "    </tr>\n",
              "    <tr>\n",
              "      <th>1</th>\n",
              "      <td>1</td>\n",
              "      <td>['поручный', 'приёмный', 'мосток']</td>\n",
              "      <td>('ТП Ноябрьск ПГИ', 'Не привлекался', 'Не опре...</td>\n",
              "    </tr>\n",
              "    <tr>\n",
              "      <th>2</th>\n",
              "      <td>2</td>\n",
              "      <td>['сотрудник', 'сторонний', 'организация', 'нах...</td>\n",
              "      <td>('АО \"Мессояханефтегаз\"', 'Эриэллнефтегазсерви...</td>\n",
              "    </tr>\n",
              "    <tr>\n",
              "      <th>3</th>\n",
              "      <td>3</td>\n",
              "      <td>['зона', 'шланг', 'высокий', 'давление', 'нахо...</td>\n",
              "      <td>('АО \"Мессояханефтегаз\"', 'Эриэллнефтегазсерви...</td>\n",
              "    </tr>\n",
              "    <tr>\n",
              "      <th>4</th>\n",
              "      <td>4</td>\n",
              "      <td>['обход', 'обнаружить', 'перепад', 'линейный',...</td>\n",
              "      <td>('ООО \"Газпромнефть-Хантос\"', 'Не привлекался'...</td>\n",
              "    </tr>\n",
              "    <tr>\n",
              "      <th>...</th>\n",
              "      <td>...</td>\n",
              "      <td>...</td>\n",
              "      <td>...</td>\n",
              "    </tr>\n",
              "    <tr>\n",
              "      <th>247255</th>\n",
              "      <td>247255</td>\n",
              "      <td>['оторвать', 'элемент', 'ограждение', 'площадк...</td>\n",
              "      <td>('ОНПЗ', 'Товарное производство', 'Товарно-сыр...</td>\n",
              "    </tr>\n",
              "    <tr>\n",
              "      <th>247256</th>\n",
              "      <td>247256</td>\n",
              "      <td>['убрать', 'мусор', 'возле']</td>\n",
              "      <td>('МНПЗ', 'Производство № 1 - первичной перераб...</td>\n",
              "    </tr>\n",
              "    <tr>\n",
              "      <th>247257</th>\n",
              "      <td>247257</td>\n",
              "      <td>['старый', 'прокладка', 'рядом', 'насос']</td>\n",
              "      <td>('МНПЗ', 'Производство № 2 - каталитического к...</td>\n",
              "    </tr>\n",
              "    <tr>\n",
              "      <th>247258</th>\n",
              "      <td>247258</td>\n",
              "      <td>['заканчиваться', 'срок', 'поверка', 'манометр...</td>\n",
              "      <td>('МНПЗ', 'Общезаводское хозяйство', 'Комплекс ...</td>\n",
              "    </tr>\n",
              "    <tr>\n",
              "      <th>247259</th>\n",
              "      <td>247259</td>\n",
              "      <td>['долить', 'масло', 'бачок', 'насос']</td>\n",
              "      <td>('МНПЗ', 'Производство № 2 - каталитического к...</td>\n",
              "    </tr>\n",
              "  </tbody>\n",
              "</table>\n",
              "<p>247260 rows × 3 columns</p>\n",
              "</div>"
            ],
            "text/plain": [
              "        Unnamed: 0  ...                                              place\n",
              "0                0  ...  ('Производство электрообеспечения «Ямал»', 'ПК...\n",
              "1                1  ...  ('ТП Ноябрьск ПГИ', 'Не привлекался', 'Не опре...\n",
              "2                2  ...  ('АО \"Мессояханефтегаз\"', 'Эриэллнефтегазсерви...\n",
              "3                3  ...  ('АО \"Мессояханефтегаз\"', 'Эриэллнефтегазсерви...\n",
              "4                4  ...  ('ООО \"Газпромнефть-Хантос\"', 'Не привлекался'...\n",
              "...            ...  ...                                                ...\n",
              "247255      247255  ...  ('ОНПЗ', 'Товарное производство', 'Товарно-сыр...\n",
              "247256      247256  ...  ('МНПЗ', 'Производство № 1 - первичной перераб...\n",
              "247257      247257  ...  ('МНПЗ', 'Производство № 2 - каталитического к...\n",
              "247258      247258  ...  ('МНПЗ', 'Общезаводское хозяйство', 'Комплекс ...\n",
              "247259      247259  ...  ('МНПЗ', 'Производство № 2 - каталитического к...\n",
              "\n",
              "[247260 rows x 3 columns]"
            ]
          },
          "metadata": {
            "tags": []
          },
          "execution_count": 11
        }
      ]
    },
    {
      "cell_type": "code",
      "metadata": {
        "id": "pEEeYr0Dh6cb"
      },
      "source": [
        "clustering = MiniBatchKMeans(n_clusters=12).fit_predict(matrix_precedent4)"
      ],
      "execution_count": null,
      "outputs": []
    },
    {
      "cell_type": "code",
      "metadata": {
        "colab": {
          "base_uri": "https://localhost:8080/",
          "height": 343
        },
        "id": "kEp5NBnHib_O",
        "outputId": "35fbd353-ef5f-4919-a7fe-83bba237227c"
      },
      "source": [
        "final_data[clustering == 1].sample(10)"
      ],
      "execution_count": null,
      "outputs": [
        {
          "output_type": "execute_result",
          "data": {
            "text/html": [
              "<div>\n",
              "<style scoped>\n",
              "    .dataframe tbody tr th:only-of-type {\n",
              "        vertical-align: middle;\n",
              "    }\n",
              "\n",
              "    .dataframe tbody tr th {\n",
              "        vertical-align: top;\n",
              "    }\n",
              "\n",
              "    .dataframe thead th {\n",
              "        text-align: right;\n",
              "    }\n",
              "</style>\n",
              "<table border=\"1\" class=\"dataframe\">\n",
              "  <thead>\n",
              "    <tr style=\"text-align: right;\">\n",
              "      <th></th>\n",
              "      <th>Unnamed: 0</th>\n",
              "      <th>precedent</th>\n",
              "      <th>place</th>\n",
              "    </tr>\n",
              "  </thead>\n",
              "  <tbody>\n",
              "    <tr>\n",
              "      <th>77013</th>\n",
              "      <td>77013</td>\n",
              "      <td>['посторонний', 'предмет', 'мусор']</td>\n",
              "      <td>('ЦТОиРТ-4', 'Трубопровод нефтесборный к.10-т....</td>\n",
              "    </tr>\n",
              "    <tr>\n",
              "      <th>155768</th>\n",
              "      <td>155768</td>\n",
              "      <td>['процесс', 'заправка', 'машинист', 'применить...</td>\n",
              "      <td>('АО Газпромнефть - Аэро', 'Представительство ...</td>\n",
              "    </tr>\n",
              "    <tr>\n",
              "      <th>155769</th>\n",
              "      <td>155769</td>\n",
              "      <td>['процесс', 'заправка', 'машинист', 'применить...</td>\n",
              "      <td>('АО Газпромнефть - Аэро', 'Представительство ...</td>\n",
              "    </tr>\n",
              "    <tr>\n",
              "      <th>236723</th>\n",
              "      <td>236723</td>\n",
              "      <td>['мусор', 'посторонний', 'предмет', 'территори...</td>\n",
              "      <td>('МНПЗ', 'Производство № 2 - каталитического к...</td>\n",
              "    </tr>\n",
              "    <tr>\n",
              "      <th>176875</th>\n",
              "      <td>176875</td>\n",
              "      <td>['посторонний', 'предмет', 'поддон', 'металлол...</td>\n",
              "      <td>('ОЗСМ', 'Блок производства', 'Комплекс депара...</td>\n",
              "    </tr>\n",
              "    <tr>\n",
              "      <th>239600</th>\n",
              "      <td>239600</td>\n",
              "      <td>['проведение', 'ремонтный', 'работа', 'блок', ...</td>\n",
              "      <td>('МНПЗ', 'Производство № 2 - каталитического к...</td>\n",
              "    </tr>\n",
              "    <tr>\n",
              "      <th>2085</th>\n",
              "      <td>2085</td>\n",
              "      <td>['работник', 'находиться', 'сизый', 'очки']</td>\n",
              "      <td>('ООО \"Газпромнефть-Оренбург\"', 'Не привлекалс...</td>\n",
              "    </tr>\n",
              "    <tr>\n",
              "      <th>1235</th>\n",
              "      <td>1235</td>\n",
              "      <td>['проверка', 'сотрудник', 'передвигаться', 'пл...</td>\n",
              "      <td>('ООО \"Газпромнефть-Хантос\"', 'КНГ-Сервис ООО'...</td>\n",
              "    </tr>\n",
              "    <tr>\n",
              "      <th>168383</th>\n",
              "      <td>168383</td>\n",
              "      <td>['возможно', 'падение', 'каска', 'голова', 'от...</td>\n",
              "      <td>('АО Газпромнефть - Аэро', 'Представительство ...</td>\n",
              "    </tr>\n",
              "    <tr>\n",
              "      <th>53183</th>\n",
              "      <td>53183</td>\n",
              "      <td>['посторонний', 'предмет']</td>\n",
              "      <td>('АО \"Газпромнефть-Ноябрьскнефтегаз\"', 'Не при...</td>\n",
              "    </tr>\n",
              "  </tbody>\n",
              "</table>\n",
              "</div>"
            ],
            "text/plain": [
              "        Unnamed: 0  ...                                              place\n",
              "77013        77013  ...  ('ЦТОиРТ-4', 'Трубопровод нефтесборный к.10-т....\n",
              "155768      155768  ...  ('АО Газпромнефть - Аэро', 'Представительство ...\n",
              "155769      155769  ...  ('АО Газпромнефть - Аэро', 'Представительство ...\n",
              "236723      236723  ...  ('МНПЗ', 'Производство № 2 - каталитического к...\n",
              "176875      176875  ...  ('ОЗСМ', 'Блок производства', 'Комплекс депара...\n",
              "239600      239600  ...  ('МНПЗ', 'Производство № 2 - каталитического к...\n",
              "2085          2085  ...  ('ООО \"Газпромнефть-Оренбург\"', 'Не привлекалс...\n",
              "1235          1235  ...  ('ООО \"Газпромнефть-Хантос\"', 'КНГ-Сервис ООО'...\n",
              "168383      168383  ...  ('АО Газпромнефть - Аэро', 'Представительство ...\n",
              "53183        53183  ...  ('АО \"Газпромнефть-Ноябрьскнефтегаз\"', 'Не при...\n",
              "\n",
              "[10 rows x 3 columns]"
            ]
          },
          "metadata": {
            "tags": []
          },
          "execution_count": 74
        }
      ]
    },
    {
      "cell_type": "code",
      "metadata": {
        "id": "6yRdBAzFio0d"
      },
      "source": [
        ""
      ],
      "execution_count": null,
      "outputs": []
    },
    {
      "cell_type": "code",
      "metadata": {
        "id": "uHJq_1yOIUYD"
      },
      "source": [
        "model = DBSCAN(eps=0.78, min_samples=100)"
      ],
      "execution_count": null,
      "outputs": []
    },
    {
      "cell_type": "code",
      "metadata": {
        "id": "xI3EM5REIbtN"
      },
      "source": [
        "cls = model.fit_predict(matrix_precedent4[:25000])"
      ],
      "execution_count": null,
      "outputs": []
    },
    {
      "cell_type": "code",
      "metadata": {
        "colab": {
          "base_uri": "https://localhost:8080/"
        },
        "id": "YeP6d5ZKtIgt",
        "outputId": "b8468201-0d88-4272-e7cf-f9b24c7cdca7"
      },
      "source": [
        "pd.Series(cls).unique()"
      ],
      "execution_count": null,
      "outputs": [
        {
          "output_type": "execute_result",
          "data": {
            "text/plain": [
              "array([-1,  0,  3,  1,  2,  4, 18,  5,  7,  6,  9, 11,  8, 16, 10, 21, 15,\n",
              "       20, 13, 12, 14, 19, 17])"
            ]
          },
          "metadata": {
            "tags": []
          },
          "execution_count": 67
        }
      ]
    },
    {
      "cell_type": "code",
      "metadata": {
        "id": "qPWohkqofcXL"
      },
      "source": [
        ""
      ],
      "execution_count": null,
      "outputs": []
    },
    {
      "cell_type": "code",
      "metadata": {
        "id": "DgXX7AP9f0x8"
      },
      "source": [
        ""
      ],
      "execution_count": null,
      "outputs": []
    },
    {
      "cell_type": "code",
      "metadata": {
        "id": "QCSdupJJhWDR"
      },
      "source": [
        ""
      ],
      "execution_count": null,
      "outputs": []
    },
    {
      "cell_type": "code",
      "metadata": {
        "id": "DBIzC17vlR4F"
      },
      "source": [
        ""
      ],
      "execution_count": null,
      "outputs": []
    },
    {
      "cell_type": "code",
      "metadata": {
        "colab": {
          "base_uri": "https://localhost:8080/",
          "height": 402
        },
        "id": "z2TO2LfXtFcj",
        "outputId": "a9f5bf6f-ff86-4000-c96d-6f979696bb6f"
      },
      "source": [
        "data[:25000][cls == 5]#.sample(10)"
      ],
      "execution_count": null,
      "outputs": [
        {
          "output_type": "execute_result",
          "data": {
            "text/html": [
              "<div>\n",
              "<style scoped>\n",
              "    .dataframe tbody tr th:only-of-type {\n",
              "        vertical-align: middle;\n",
              "    }\n",
              "\n",
              "    .dataframe tbody tr th {\n",
              "        vertical-align: top;\n",
              "    }\n",
              "\n",
              "    .dataframe thead th {\n",
              "        text-align: right;\n",
              "    }\n",
              "</style>\n",
              "<table border=\"1\" class=\"dataframe\">\n",
              "  <thead>\n",
              "    <tr style=\"text-align: right;\">\n",
              "      <th></th>\n",
              "      <th>place</th>\n",
              "      <th>precedent</th>\n",
              "    </tr>\n",
              "  </thead>\n",
              "  <tbody>\n",
              "    <tr>\n",
              "      <th>39</th>\n",
              "      <td>('ООО \"Газпромнефть-Хантос\"', 'Не привлекался'...</td>\n",
              "      <td>На к.п.11 лестничный марш ростверка покрыт льдом.</td>\n",
              "    </tr>\n",
              "    <tr>\n",
              "      <th>46</th>\n",
              "      <td>('АО \"Газпромнефть-Ноябрьскнефтегаз\"', 'Не при...</td>\n",
              "      <td>Въезд на базу ЦДНГ-7, не открываются ворота.</td>\n",
              "    </tr>\n",
              "    <tr>\n",
              "      <th>49</th>\n",
              "      <td>('АО \"Газпромнефть-Ноябрьскнефтегаз\"', 'Не при...</td>\n",
              "      <td>Не горит свет в БРХ ДНС-2</td>\n",
              "    </tr>\n",
              "    <tr>\n",
              "      <th>57</th>\n",
              "      <td>('АО \"Мессояханефтегаз\"', 'Эриэллнефтегазсерви...</td>\n",
              "      <td>ТС КАМАЗ стоял под ВЛ</td>\n",
              "    </tr>\n",
              "    <tr>\n",
              "      <th>100</th>\n",
              "      <td>('АО \"Мессояханефтегаз\"', 'Интелект Дриллинг С...</td>\n",
              "      <td>Вспомогательная легость в перехлестах</td>\n",
              "    </tr>\n",
              "    <tr>\n",
              "      <th>...</th>\n",
              "      <td>...</td>\n",
              "      <td>...</td>\n",
              "    </tr>\n",
              "    <tr>\n",
              "      <th>24943</th>\n",
              "      <td>('АО \"Газпромнефть-Ноябрьскнефтегаз\"', 'Не при...</td>\n",
              "      <td>Замазученность ЗКЛ №377\\n</td>\n",
              "    </tr>\n",
              "    <tr>\n",
              "      <th>24944</th>\n",
              "      <td>('АО \"Газпромнефть-Ноябрьскнефтегаз\"', 'Не при...</td>\n",
              "      <td>Нефтяные подтеки на ЗКЛ №209 в НБ НВО \\n</td>\n",
              "    </tr>\n",
              "    <tr>\n",
              "      <th>24973</th>\n",
              "      <td>('АО \"Мессояханефтегаз\"', 'Не привлекался', 'Н...</td>\n",
              "      <td>Порывом ветра с АВО УПТГ-4 сорвало металлическ...</td>\n",
              "    </tr>\n",
              "    <tr>\n",
              "      <th>24977</th>\n",
              "      <td>('АО \"Газпромнефть-Ноябрьскнефтегаз\"', 'Не при...</td>\n",
              "      <td>Полы ростверга деревянные, с дырами.</td>\n",
              "    </tr>\n",
              "    <tr>\n",
              "      <th>24978</th>\n",
              "      <td>('АО \"Газпромнефть-Ноябрьскнефтегаз\"', 'Не при...</td>\n",
              "      <td>Полы ростверга деревянные, с дырами.</td>\n",
              "    </tr>\n",
              "  </tbody>\n",
              "</table>\n",
              "<p>1433 rows × 2 columns</p>\n",
              "</div>"
            ],
            "text/plain": [
              "                                                   place                                          precedent\n",
              "39     ('ООО \"Газпромнефть-Хантос\"', 'Не привлекался'...  На к.п.11 лестничный марш ростверка покрыт льдом.\n",
              "46     ('АО \"Газпромнефть-Ноябрьскнефтегаз\"', 'Не при...       Въезд на базу ЦДНГ-7, не открываются ворота.\n",
              "49     ('АО \"Газпромнефть-Ноябрьскнефтегаз\"', 'Не при...                          Не горит свет в БРХ ДНС-2\n",
              "57     ('АО \"Мессояханефтегаз\"', 'Эриэллнефтегазсерви...                              ТС КАМАЗ стоял под ВЛ\n",
              "100    ('АО \"Мессояханефтегаз\"', 'Интелект Дриллинг С...              Вспомогательная легость в перехлестах\n",
              "...                                                  ...                                                ...\n",
              "24943  ('АО \"Газпромнефть-Ноябрьскнефтегаз\"', 'Не при...                          Замазученность ЗКЛ №377\\n\n",
              "24944  ('АО \"Газпромнефть-Ноябрьскнефтегаз\"', 'Не при...           Нефтяные подтеки на ЗКЛ №209 в НБ НВО \\n\n",
              "24973  ('АО \"Мессояханефтегаз\"', 'Не привлекался', 'Н...  Порывом ветра с АВО УПТГ-4 сорвало металлическ...\n",
              "24977  ('АО \"Газпромнефть-Ноябрьскнефтегаз\"', 'Не при...               Полы ростверга деревянные, с дырами.\n",
              "24978  ('АО \"Газпромнефть-Ноябрьскнефтегаз\"', 'Не при...               Полы ростверга деревянные, с дырами.\n",
              "\n",
              "[1433 rows x 2 columns]"
            ]
          },
          "metadata": {
            "tags": []
          },
          "execution_count": 84
        }
      ]
    },
    {
      "cell_type": "code",
      "metadata": {
        "id": "3jvDwSpuoD84"
      },
      "source": [
        "from sklearn.manifold import TSNE\n",
        "import matplotlib.cm as cm"
      ],
      "execution_count": null,
      "outputs": []
    },
    {
      "cell_type": "code",
      "metadata": {
        "id": "YlzJVoUPoD84"
      },
      "source": [
        "tsne = TSNE(random_state = 321)\n",
        "tsne_representation = tsne.fit_transform(matrix_precedent4[:25000])"
      ],
      "execution_count": null,
      "outputs": []
    },
    {
      "cell_type": "code",
      "metadata": {
        "colab": {
          "base_uri": "https://localhost:8080/",
          "height": 775
        },
        "id": "KapnCPcuoD84",
        "outputId": "eeb2322e-83ba-4248-958c-0abf6858c990"
      },
      "source": [
        "colors = cm.rainbow(np.linspace(0, 1, len(set(cls))))\n",
        "for y, c in zip(set(cls), colors):\n",
        "  if y != -1:\n",
        "    plt.scatter(tsne_representation[cls==y, 0], \n",
        "                tsne_representation[cls==y, 1], c=c, alpha=0.5, label=str(y))\n",
        "plt.legend()"
      ],
      "execution_count": null,
      "outputs": [
        {
          "output_type": "stream",
          "text": [
            "*c* argument looks like a single numeric RGB or RGBA sequence, which should be avoided as value-mapping will have precedence in case its length matches with *x* & *y*.  Please use the *color* keyword-argument or provide a 2-D array with a single row if you intend to specify the same RGB or RGBA value for all points.\n",
            "*c* argument looks like a single numeric RGB or RGBA sequence, which should be avoided as value-mapping will have precedence in case its length matches with *x* & *y*.  Please use the *color* keyword-argument or provide a 2-D array with a single row if you intend to specify the same RGB or RGBA value for all points.\n",
            "*c* argument looks like a single numeric RGB or RGBA sequence, which should be avoided as value-mapping will have precedence in case its length matches with *x* & *y*.  Please use the *color* keyword-argument or provide a 2-D array with a single row if you intend to specify the same RGB or RGBA value for all points.\n",
            "*c* argument looks like a single numeric RGB or RGBA sequence, which should be avoided as value-mapping will have precedence in case its length matches with *x* & *y*.  Please use the *color* keyword-argument or provide a 2-D array with a single row if you intend to specify the same RGB or RGBA value for all points.\n",
            "*c* argument looks like a single numeric RGB or RGBA sequence, which should be avoided as value-mapping will have precedence in case its length matches with *x* & *y*.  Please use the *color* keyword-argument or provide a 2-D array with a single row if you intend to specify the same RGB or RGBA value for all points.\n",
            "*c* argument looks like a single numeric RGB or RGBA sequence, which should be avoided as value-mapping will have precedence in case its length matches with *x* & *y*.  Please use the *color* keyword-argument or provide a 2-D array with a single row if you intend to specify the same RGB or RGBA value for all points.\n",
            "*c* argument looks like a single numeric RGB or RGBA sequence, which should be avoided as value-mapping will have precedence in case its length matches with *x* & *y*.  Please use the *color* keyword-argument or provide a 2-D array with a single row if you intend to specify the same RGB or RGBA value for all points.\n",
            "*c* argument looks like a single numeric RGB or RGBA sequence, which should be avoided as value-mapping will have precedence in case its length matches with *x* & *y*.  Please use the *color* keyword-argument or provide a 2-D array with a single row if you intend to specify the same RGB or RGBA value for all points.\n",
            "*c* argument looks like a single numeric RGB or RGBA sequence, which should be avoided as value-mapping will have precedence in case its length matches with *x* & *y*.  Please use the *color* keyword-argument or provide a 2-D array with a single row if you intend to specify the same RGB or RGBA value for all points.\n",
            "*c* argument looks like a single numeric RGB or RGBA sequence, which should be avoided as value-mapping will have precedence in case its length matches with *x* & *y*.  Please use the *color* keyword-argument or provide a 2-D array with a single row if you intend to specify the same RGB or RGBA value for all points.\n",
            "*c* argument looks like a single numeric RGB or RGBA sequence, which should be avoided as value-mapping will have precedence in case its length matches with *x* & *y*.  Please use the *color* keyword-argument or provide a 2-D array with a single row if you intend to specify the same RGB or RGBA value for all points.\n",
            "*c* argument looks like a single numeric RGB or RGBA sequence, which should be avoided as value-mapping will have precedence in case its length matches with *x* & *y*.  Please use the *color* keyword-argument or provide a 2-D array with a single row if you intend to specify the same RGB or RGBA value for all points.\n",
            "*c* argument looks like a single numeric RGB or RGBA sequence, which should be avoided as value-mapping will have precedence in case its length matches with *x* & *y*.  Please use the *color* keyword-argument or provide a 2-D array with a single row if you intend to specify the same RGB or RGBA value for all points.\n",
            "*c* argument looks like a single numeric RGB or RGBA sequence, which should be avoided as value-mapping will have precedence in case its length matches with *x* & *y*.  Please use the *color* keyword-argument or provide a 2-D array with a single row if you intend to specify the same RGB or RGBA value for all points.\n",
            "*c* argument looks like a single numeric RGB or RGBA sequence, which should be avoided as value-mapping will have precedence in case its length matches with *x* & *y*.  Please use the *color* keyword-argument or provide a 2-D array with a single row if you intend to specify the same RGB or RGBA value for all points.\n",
            "*c* argument looks like a single numeric RGB or RGBA sequence, which should be avoided as value-mapping will have precedence in case its length matches with *x* & *y*.  Please use the *color* keyword-argument or provide a 2-D array with a single row if you intend to specify the same RGB or RGBA value for all points.\n",
            "*c* argument looks like a single numeric RGB or RGBA sequence, which should be avoided as value-mapping will have precedence in case its length matches with *x* & *y*.  Please use the *color* keyword-argument or provide a 2-D array with a single row if you intend to specify the same RGB or RGBA value for all points.\n",
            "*c* argument looks like a single numeric RGB or RGBA sequence, which should be avoided as value-mapping will have precedence in case its length matches with *x* & *y*.  Please use the *color* keyword-argument or provide a 2-D array with a single row if you intend to specify the same RGB or RGBA value for all points.\n",
            "*c* argument looks like a single numeric RGB or RGBA sequence, which should be avoided as value-mapping will have precedence in case its length matches with *x* & *y*.  Please use the *color* keyword-argument or provide a 2-D array with a single row if you intend to specify the same RGB or RGBA value for all points.\n",
            "*c* argument looks like a single numeric RGB or RGBA sequence, which should be avoided as value-mapping will have precedence in case its length matches with *x* & *y*.  Please use the *color* keyword-argument or provide a 2-D array with a single row if you intend to specify the same RGB or RGBA value for all points.\n",
            "*c* argument looks like a single numeric RGB or RGBA sequence, which should be avoided as value-mapping will have precedence in case its length matches with *x* & *y*.  Please use the *color* keyword-argument or provide a 2-D array with a single row if you intend to specify the same RGB or RGBA value for all points.\n",
            "*c* argument looks like a single numeric RGB or RGBA sequence, which should be avoided as value-mapping will have precedence in case its length matches with *x* & *y*.  Please use the *color* keyword-argument or provide a 2-D array with a single row if you intend to specify the same RGB or RGBA value for all points.\n"
          ],
          "name": "stderr"
        },
        {
          "output_type": "execute_result",
          "data": {
            "text/plain": [
              "<matplotlib.legend.Legend at 0x7ff7f451bdd8>"
            ]
          },
          "metadata": {
            "tags": []
          },
          "execution_count": 17
        },
        {
          "output_type": "display_data",
          "data": {
            "image/png": "[encoded data removed]",
            "text/plain": [
              "<Figure size 432x288 with 1 Axes>"
            ]
          },
          "metadata": {
            "tags": [],
            "needs_background": "light"
          }
        }
      ]
    },
    {
      "cell_type": "code",
      "metadata": {
        "id": "ykeeVovIt__W"
      },
      "source": [
        ""
      ],
      "execution_count": null,
      "outputs": []
    }
  ]
}